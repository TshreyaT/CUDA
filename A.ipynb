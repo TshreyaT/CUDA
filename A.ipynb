{
  "nbformat": 4,
  "nbformat_minor": 0,
  "metadata": {
    "colab": {
      "provenance": []
    },
    "kernelspec": {
      "name": "python3",
      "display_name": "Python 3"
    },
    "language_info": {
      "name": "python"
    }
  },
  "cells": [
    {
      "cell_type": "code",
      "execution_count": null,
      "metadata": {
        "colab": {
          "base_uri": "https://localhost:8080/"
        },
        "id": "bU0qvALruvjK",
        "outputId": "c61194d5-d8e2-4dad-9ad0-581ae3b784ee"
      },
      "outputs": [
        {
          "output_type": "stream",
          "name": "stdout",
          "text": [
            "Writing mat2.cu\n"
          ]
        }
      ],
      "source": [
        "%%writefile mat2.cu\n",
        "#include <cuda_runtime.h>\n",
        "#include <iostream>\n",
        "__global__ void matmul(int* A, int* B, int* C, int N)\n",
        " {\n",
        "int Row = blockIdx.y*blockDim.y+threadIdx.y;\n",
        "int Col = blockIdx.x*blockDim.x+threadIdx.x;\n",
        "if (Row < N && Col < N)\n",
        " {\n",
        "int Pvalue = 0;\n",
        "for (int k = 0; k < N; k++)\n",
        " {\n",
        "Pvalue += A[Row*N+k] * B[k*N+Col];\n",
        "}\n",
        "C[Row*N+Col] = Pvalue;\n",
        "}\n",
        "}\n",
        "int main()\n",
        "{\n",
        "int N = 16;\n",
        "int size = N * N * sizeof(int);\n",
        "int* A, * B, * C;\n",
        "int* dev_A, * dev_B, * dev_C;\n",
        "cudaMallocHost(&A, size);\n",
        "cudaMallocHost(&B, size);\n",
        "cudaMallocHost(&C, size);\n",
        "cudaMalloc(&dev_A, size);\n",
        "cudaMalloc(&dev_B, size);\n",
        "cudaMalloc(&dev_C, size);\n",
        "// Initialize matrices A and B\n",
        "for (int i = 0; i < N; i++)\n",
        " {\n",
        "for (int j = 0; j < N; j++)\n",
        " {\n",
        "A[i*N+j] = 2;\n",
        "B[i*N+j] = 2;\n",
        "}\n",
        "}\n",
        "cudaMemcpy(dev_A, A, size,cudaMemcpyHostToDevice);\n",
        "cudaMemcpy(dev_B, B, size,cudaMemcpyHostToDevice);\n",
        "dim3 dimBlock(4, 4);\n",
        "dim3 dimGrid(N/dimBlock.x, N/dimBlock.y);\n",
        "matmul<<<dimGrid, dimBlock>>>(dev_A, dev_B,dev_C, N);\n",
        "cudaMemcpy(C,dev_C,size,cudaMemcpyHostToDevice); // Print the result\n",
        "for (int i = 0; i < N; i++)\n",
        " {\n",
        "for (int j = 0; j < N; j++)\n",
        "{\n",
        "std::cout << C[i*N+j] << \" \";\n",
        "}\n",
        "std::cout << std::endl;\n",
        "}\n",
        "// Free memory\n",
        "cudaFree(dev_A);\n",
        "cudaFree(dev_B);\n",
        "cudaFree(dev_C);\n",
        "cudaFreeHost(A);\n",
        "cudaFreeHost(B);\n",
        "cudaFreeHost(C);\n",
        "return 0;\n",
        "}"
      ]
    },
    {
      "cell_type": "code",
      "source": [
        "!nvcc mat2.cu -o mat"
      ],
      "metadata": {
        "id": "9bjGk6xJu9KT"
      },
      "execution_count": null,
      "outputs": []
    },
    {
      "cell_type": "code",
      "source": [
        "!./mat"
      ],
      "metadata": {
        "id": "LSkyc91Zu_uU"
      },
      "execution_count": null,
      "outputs": []
    },
    {
      "cell_type": "code",
      "source": [
        "%%writefile Addv2.cu\n",
        "\n",
        "\n",
        "#include <stdio.h>\n",
        "\n",
        "\n",
        "#define N 8\n",
        "#define numThread 2 // 2 threads in a block\n",
        "#define numBlock 4  // 4 blocks\n",
        "\n",
        "\n",
        "__global__ void add( int *a, int *b, int *c ) {\n",
        "\n",
        "    int tid = blockDim.x * blockIdx.x + threadIdx.x;\n",
        "\n",
        "\n",
        "    while (tid < N) {\n",
        "        c[tid] = a[tid] + b[tid];\n",
        "        tid += blockDim.x;\n",
        "\n",
        "    }\n",
        "}\n",
        "\n",
        "\n",
        "int main( void ) {\n",
        "    int *a, *b, *c;\n",
        "    int *dev_a, *dev_b, *dev_c;\n",
        "\n",
        "\n",
        "    a = (int*)malloc( N * sizeof(int) );\n",
        "    b = (int*)malloc( N * sizeof(int) );\n",
        "    c = (int*)malloc( N * sizeof(int) );\n",
        "\n",
        "    for (int i=0; i<N; i++) {\n",
        "        a[i] = 2*i;\n",
        "        b[i] = i*3;\n",
        "    }\n",
        "\n",
        "\n",
        "     cudaMalloc( (void**)&dev_a, N * sizeof(int) );\n",
        "     cudaMalloc( (void**)&dev_b, N * sizeof(int) );\n",
        "     cudaMalloc( (void**)&dev_c, N * sizeof(int) );\n",
        "\n",
        "\n",
        "     cudaMemcpy( dev_a, a, N * sizeof(int), cudaMemcpyHostToDevice );\n",
        "     cudaMemcpy( dev_b, b, N * sizeof(int), cudaMemcpyHostToDevice );\n",
        "\n",
        "    add<<<numBlock,numThread>>>( dev_a, dev_b, dev_c );\n",
        "\n",
        "    cudaMemcpy( c, dev_c, N * sizeof(int),cudaMemcpyDeviceToHost );\n",
        "\n",
        "\n",
        "    bool success = true;\n",
        "    int total=0;\n",
        "    printf(\"Checking %d values in the array.\\n\", N);\n",
        "    for (int i=0; i<N; i++) {\n",
        "        if ((a[i] + b[i]) != c[i]) {\n",
        "            printf( \"Error:  %d + %d != %d\\n\", a[i], b[i], c[i] );\n",
        "            success = false;\n",
        "        }\n",
        "        total += 1;\n",
        "    }\n",
        "    if (success)  printf( \"We did it, %d values correct!\\n\", total );\n",
        "\n",
        " for (int i=0; i<N; i++)\n",
        "       {\n",
        "            printf( \"  %d + %d , =%d\\n\", a[i], b[i], c[i] );\n",
        "\n",
        "    }\n",
        "    free( a );\n",
        "    free( b );\n",
        "    free( c );\n",
        "\n",
        "     cudaFree( dev_a );\n",
        "     cudaFree( dev_b );\n",
        "     cudaFree( dev_c );\n",
        "\n",
        "    return 0;\n",
        "}"
      ],
      "metadata": {
        "id": "gowxJ_txvFgc",
        "colab": {
          "base_uri": "https://localhost:8080/"
        },
        "outputId": "19a06501-be3e-4a56-ee1a-556324d1aa4c"
      },
      "execution_count": null,
      "outputs": [
        {
          "output_type": "stream",
          "name": "stdout",
          "text": [
            "Writing Addv2.cu\n"
          ]
        }
      ]
    },
    {
      "cell_type": "code",
      "source": [
        "!nvcc Addv2.cu -o Add1"
      ],
      "metadata": {
        "id": "QjdD9gS-twu7"
      },
      "execution_count": null,
      "outputs": []
    },
    {
      "cell_type": "code",
      "source": [
        "!./Add1"
      ],
      "metadata": {
        "colab": {
          "base_uri": "https://localhost:8080/"
        },
        "id": "jT00T0PXtxYT",
        "outputId": "b1e530ef-9b13-4b3b-d421-be0752f20edd"
      },
      "execution_count": null,
      "outputs": [
        {
          "output_type": "stream",
          "name": "stdout",
          "text": [
            "Checking 8 values in the array.\n",
            "We did it, 8 values correct!\n",
            "  0 + 0 , =0\n",
            "  2 + 3 , =5\n",
            "  4 + 6 , =10\n",
            "  6 + 9 , =15\n",
            "  8 + 12 , =20\n",
            "  10 + 15 , =25\n",
            "  12 + 18 , =30\n",
            "  14 + 21 , =35\n"
          ]
        }
      ]
    }
  ]
}